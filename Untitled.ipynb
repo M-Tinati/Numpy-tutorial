{
 "cells": [
  {
   "cell_type": "markdown",
   "id": "910ae5f1",
   "metadata": {},
   "source": [
    "<h1>Numpy</h1>"
   ]
  },
  {
   "cell_type": "markdown",
   "id": "6b36186e",
   "metadata": {},
   "source": [
    "<p>In this section to one\n",
    " We are talking about Python libraries called numpy.</p>\n",
    " <p>The address of my GitHub page :<a> https://github.com/M-Tinati</a> </p>"
   ]
  },
  {
   "cell_type": "markdown",
   "id": "f1f776f3",
   "metadata": {},
   "source": [
    "<h4>Part one</h4>\n",
    "<p>shape , ndim , dtype , size</p>"
   ]
  },
  {
   "cell_type": "code",
   "execution_count": 3,
   "id": "fb387bc2",
   "metadata": {},
   "outputs": [],
   "source": [
    "import numpy as np"
   ]
  },
  {
   "cell_type": "code",
   "execution_count": 4,
   "id": "c3a2568f",
   "metadata": {},
   "outputs": [
    {
     "data": {
      "text/plain": [
       "array([1, 2, 3, 4, 5, 5])"
      ]
     },
     "execution_count": 4,
     "metadata": {},
     "output_type": "execute_result"
    }
   ],
   "source": [
    "x = np.array([1,2,3,4,5,5])\n",
    "x"
   ]
  },
  {
   "cell_type": "code",
   "execution_count": 7,
   "id": "188d55c2",
   "metadata": {},
   "outputs": [
    {
     "data": {
      "text/plain": [
       "(6,)"
      ]
     },
     "execution_count": 7,
     "metadata": {},
     "output_type": "execute_result"
    }
   ],
   "source": [
    "x.shape\n",
    "# It shows us the length(len) of the x array.\n",
    "# x is Horizontal Vector"
   ]
  },
  {
   "cell_type": "code",
   "execution_count": 8,
   "id": "2de358ac",
   "metadata": {},
   "outputs": [
    {
     "data": {
      "text/plain": [
       "dtype('int32')"
      ]
     },
     "execution_count": 8,
     "metadata": {},
     "output_type": "execute_result"
    }
   ],
   "source": [
    "x.dtype"
   ]
  },
  {
   "cell_type": "code",
   "execution_count": 11,
   "id": "c7b9c5cc",
   "metadata": {},
   "outputs": [
    {
     "data": {
      "text/plain": [
       "1"
      ]
     },
     "execution_count": 11,
     "metadata": {},
     "output_type": "execute_result"
    }
   ],
   "source": [
    "x.ndim\n",
    "# The number represents the dimension of an array."
   ]
  },
  {
   "cell_type": "code",
   "execution_count": 13,
   "id": "7709728c",
   "metadata": {},
   "outputs": [
    {
     "data": {
      "text/plain": [
       "6"
      ]
     },
     "execution_count": 13,
     "metadata": {},
     "output_type": "execute_result"
    }
   ],
   "source": [
    "x.size\n",
    "# Returns the number of array members."
   ]
  },
  {
   "cell_type": "markdown",
   "id": "2c5c47da",
   "metadata": {},
   "source": [
    "<h3>Part two</h3>\n",
    "<p>how to creat 2d in numpy</p>\n",
    "<p>arange , linspace , ones , zeros </p>"
   ]
  },
  {
   "cell_type": "code",
   "execution_count": 16,
   "id": "5a34222d",
   "metadata": {},
   "outputs": [],
   "source": [
    "a = np.array([11,22,33,44])\n",
    "b = np.array([10,20,30,40])"
   ]
  },
  {
   "cell_type": "code",
   "execution_count": 20,
   "id": "314a09de",
   "metadata": {
    "scrolled": true
   },
   "outputs": [
    {
     "data": {
      "text/plain": [
       "array([[11, 22, 33, 44],\n",
       "       [10, 20, 30, 40]])"
      ]
     },
     "execution_count": 20,
     "metadata": {},
     "output_type": "execute_result"
    }
   ],
   "source": [
    "c = np.array([a,b])\n",
    "c"
   ]
  },
  {
   "cell_type": "code",
   "execution_count": 21,
   "id": "43ebfeb5",
   "metadata": {},
   "outputs": [
    {
     "data": {
      "text/plain": [
       "2"
      ]
     },
     "execution_count": 21,
     "metadata": {},
     "output_type": "execute_result"
    }
   ],
   "source": [
    "c.ndim"
   ]
  },
  {
   "cell_type": "markdown",
   "id": "11bf47e9",
   "metadata": {},
   "source": [
    "<h3>Section2</h3>\n",
    "<p>arange , linspace , ones , zeros </p>"
   ]
  },
  {
   "cell_type": "code",
   "execution_count": 25,
   "id": "a63680ed",
   "metadata": {},
   "outputs": [
    {
     "data": {
      "text/plain": [
       "array([0, 1, 2, 3, 4, 5, 6, 7, 8, 9])"
      ]
     },
     "execution_count": 25,
     "metadata": {},
     "output_type": "execute_result"
    }
   ],
   "source": [
    "x = np.arange(0,10)\n",
    "x\n",
    "# Creates an array with a range of 0 to 9 "
   ]
  },
  {
   "cell_type": "code",
   "execution_count": 27,
   "id": "9a101602",
   "metadata": {},
   "outputs": [
    {
     "data": {
      "text/plain": [
       "array([0, 2, 4, 6, 8])"
      ]
     },
     "execution_count": 27,
     "metadata": {},
     "output_type": "execute_result"
    }
   ],
   "source": [
    "v = np.arange(0,10 , 2)\n",
    "v\n",
    "# like range in python >> range(start , stop , step)"
   ]
  },
  {
   "cell_type": "code",
   "execution_count": 34,
   "id": "4f866691",
   "metadata": {},
   "outputs": [
    {
     "data": {
      "text/plain": [
       "array([ 1.        ,  1.18367347,  1.36734694,  1.55102041,  1.73469388,\n",
       "        1.91836735,  2.10204082,  2.28571429,  2.46938776,  2.65306122,\n",
       "        2.83673469,  3.02040816,  3.20408163,  3.3877551 ,  3.57142857,\n",
       "        3.75510204,  3.93877551,  4.12244898,  4.30612245,  4.48979592,\n",
       "        4.67346939,  4.85714286,  5.04081633,  5.2244898 ,  5.40816327,\n",
       "        5.59183673,  5.7755102 ,  5.95918367,  6.14285714,  6.32653061,\n",
       "        6.51020408,  6.69387755,  6.87755102,  7.06122449,  7.24489796,\n",
       "        7.42857143,  7.6122449 ,  7.79591837,  7.97959184,  8.16326531,\n",
       "        8.34693878,  8.53061224,  8.71428571,  8.89795918,  9.08163265,\n",
       "        9.26530612,  9.44897959,  9.63265306,  9.81632653, 10.        ])"
      ]
     },
     "execution_count": 34,
     "metadata": {},
     "output_type": "execute_result"
    }
   ],
   "source": [
    "x = np.linspace(1,10)\n",
    "x"
   ]
  },
  {
   "cell_type": "code",
   "execution_count": 36,
   "id": "026c0512",
   "metadata": {},
   "outputs": [
    {
     "data": {
      "text/plain": [
       "array([ 0.,  5., 10., 15., 20.])"
      ]
     },
     "execution_count": 36,
     "metadata": {},
     "output_type": "execute_result"
    }
   ],
   "source": [
    "x = np.linspace(0,20,5)\n",
    "x\n",
    "# Among the entered numbers, for example, from zero to twenty It divides five numbers with equal distance.\n"
   ]
  },
  {
   "cell_type": "code",
   "execution_count": 38,
   "id": "3b5f603e",
   "metadata": {},
   "outputs": [
    {
     "data": {
      "text/plain": [
       "(array([ 0.,  5., 10., 15., 20.]), 5.0)"
      ]
     },
     "execution_count": 38,
     "metadata": {},
     "output_type": "execute_result"
    }
   ],
   "source": [
    "x = np.linspace(0,20,5, retstep=True)\n",
    "x\n",
    "# retstep : bool, optional\n",
    "# If True, return (`samples`, `step`), where `step` is the spacing"
   ]
  },
  {
   "cell_type": "code",
   "execution_count": 44,
   "id": "ece8fc65",
   "metadata": {},
   "outputs": [
    {
     "data": {
      "text/plain": [
       "array([[1., 1., 1., 1., 1.],\n",
       "       [1., 1., 1., 1., 1.],\n",
       "       [1., 1., 1., 1., 1.]])"
      ]
     },
     "execution_count": 44,
     "metadata": {},
     "output_type": "execute_result"
    }
   ],
   "source": [
    "x = np.ones([3,5])\n",
    "x"
   ]
  },
  {
   "cell_type": "code",
   "execution_count": 45,
   "id": "42dc3699",
   "metadata": {},
   "outputs": [
    {
     "data": {
      "text/plain": [
       "array([[0., 0., 0., 0., 0.],\n",
       "       [0., 0., 0., 0., 0.],\n",
       "       [0., 0., 0., 0., 0.]])"
      ]
     },
     "execution_count": 45,
     "metadata": {},
     "output_type": "execute_result"
    }
   ],
   "source": [
    "x = np.zeros([3,5])\n",
    "x"
   ]
  },
  {
   "cell_type": "code",
   "execution_count": null,
   "id": "69b38463",
   "metadata": {},
   "outputs": [],
   "source": []
  }
 ],
 "metadata": {
  "kernelspec": {
   "display_name": "Python 3 (ipykernel)",
   "language": "python",
   "name": "python3"
  },
  "language_info": {
   "codemirror_mode": {
    "name": "ipython",
    "version": 3
   },
   "file_extension": ".py",
   "mimetype": "text/x-python",
   "name": "python",
   "nbconvert_exporter": "python",
   "pygments_lexer": "ipython3",
   "version": "3.11.1"
  }
 },
 "nbformat": 4,
 "nbformat_minor": 5
}
